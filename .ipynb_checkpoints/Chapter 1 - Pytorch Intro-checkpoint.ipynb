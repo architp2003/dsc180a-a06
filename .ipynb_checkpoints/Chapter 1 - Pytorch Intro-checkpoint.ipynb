{
 "cells": [
  {
   "cell_type": "markdown",
   "id": "a25cbbef-5225-4dfe-b01c-c01d06b293bc",
   "metadata": {},
   "source": [
    "# PyTorch & MNIST Intro"
   ]
  },
  {
   "cell_type": "markdown",
   "id": "ec6ffb13-d039-4023-b897-118a134a9fa0",
   "metadata": {},
   "source": [
    "Let's go through a simple example of Pytorch and MNIST as a way to level set NNs and the use of notebooks. This is our first introductory class, with the initial goal of level setting and kicking-off discussions on training neural networks.\n",
    "\n",
    "Please complete all challenges below for 10 (+ 2 extra) points in total. "
   ]
  },
  {
   "cell_type": "code",
   "execution_count": 1,
   "id": "b3622662-4d3f-4b42-8f1c-d1b63177488b",
   "metadata": {},
   "outputs": [
    {
     "data": {
      "text/plain": [
       "<torch._C.Generator at 0x7fd3d57e2c50>"
      ]
     },
     "execution_count": 1,
     "metadata": {},
     "output_type": "execute_result"
    }
   ],
   "source": [
    "import torch\n",
    "import torchvision\n",
    "import matplotlib.pyplot as pl\n",
    "random_seed = 1\n",
    "torch.backends.cudnn.enabled = False\n",
    "torch.manual_seed(random_seed)"
   ]
  },
  {
   "cell_type": "markdown",
   "id": "f094b84f-d36b-4936-9364-a6812076d007",
   "metadata": {},
   "source": [
    "## Dataset"
   ]
  },
  {
   "cell_type": "markdown",
   "id": "d86ff127-447e-4854-aa6c-e794e4875867",
   "metadata": {},
   "source": [
    "MNIST is probably the most traditionally used dataset for neural networks, as it is a relatively challenging problem in computer vision: recognizing single-digit numbers from a hand-written digital format. Classically, this dataset takes the form of samples of $28 \\times 28$ matrices."
   ]
  },
  {
   "cell_type": "code",
   "execution_count": 2,
   "id": "9e07bfef-c64c-4926-bf5c-d4955da85817",
   "metadata": {},
   "outputs": [],
   "source": [
    "batch_size_train = 64\n",
    "batch_size_test = 1000"
   ]
  },
  {
   "cell_type": "code",
   "execution_count": 3,
   "id": "b469c45f-cc76-4308-b302-5288192a927c",
   "metadata": {},
   "outputs": [],
   "source": [
    "train_loader = torch.utils.data.DataLoader(\n",
    "    torchvision.datasets.MNIST('./files/', train=True, download=True,\n",
    "                                transform=torchvision.transforms.Compose([\n",
    "                                    torchvision.transforms.ToTensor(),\n",
    "                                    torchvision.transforms.Normalize((0.1307,), (0.3081,))\n",
    "                                ])),\n",
    "    batch_size=batch_size_train,\n",
    "    shuffle=True)\n",
    "\n",
    "test_loader = torch.utils.data.DataLoader(\n",
    "    torchvision.datasets.MNIST('./files/', train=False, download=True,\n",
    "                                transform=torchvision.transforms.Compose([\n",
    "                                    torchvision.transforms.ToTensor(),\n",
    "                                    torchvision.transforms.Normalize(\n",
    "                                        (0.1307,), (0.3081,))\n",
    "                                ])),\n",
    "    batch_size=batch_size_test,\n",
    "    shuffle=True)"
   ]
  },
  {
   "cell_type": "code",
   "execution_count": 4,
   "id": "6c0c70ae-311c-41fe-9780-9cb91f98a991",
   "metadata": {},
   "outputs": [],
   "source": [
    "examples = enumerate(test_loader)\n",
    "batch_idx, (example_data, example_targets) = next(examples)"
   ]
  },
  {
   "cell_type": "code",
   "execution_count": 5,
   "id": "493a311a-0090-4780-8c76-5a0ebca43e52",
   "metadata": {},
   "outputs": [
    {
     "data": {
      "image/png": "[encoded data removed]",
      "text/plain": [
       "<Figure size 640x480 with 6 Axes>"
      ]
     },
     "metadata": {},
     "output_type": "display_data"
    }
   ],
   "source": [
    "fig = pl.figure()\n",
    "for i in range(6):\n",
    "    pl.subplot(2,3,i+1)\n",
    "    pl.tight_layout()\n",
    "    pl.imshow(example_data[i][0], cmap='gray', interpolation='none')\n",
    "    pl.title(\"Ground Truth: {}\".format(example_targets[i]))\n",
    "    pl.xticks([])\n",
    "    pl.yticks([])\n",
    "pl.show()"
   ]
  },
  {
   "cell_type": "markdown",
   "id": "47132e3b-113b-4a78-a004-d8c54cc0193d",
   "metadata": {},
   "source": [
    "## Building the model"
   ]
  },
  {
   "cell_type": "markdown",
   "id": "44918747-e0d5-465c-b2f2-8ec065cdb0a6",
   "metadata": {},
   "source": [
    "We need to specify the model through a Python class. Below we show how to create a Feedforward Neural Network model using Pytorch."
   ]
  },
  {
   "cell_type": "code",
   "execution_count": 6,
   "id": "4d389c91-bc58-4a60-a9b8-9a205d5981c6",
   "metadata": {},
   "outputs": [],
   "source": [
    "import torch.nn as nn\n",
    "import torch.nn.functional as F\n",
    "import torch.optim as optim"
   ]
  },
  {
   "cell_type": "code",
   "execution_count": 7,
   "id": "4a230969-61fb-4d6e-8b99-8dc12a79fff1",
   "metadata": {},
   "outputs": [],
   "source": [
    "class FeedforwardNeuralNetModel(nn.Module):\n",
    "    def __init__(self):\n",
    "        input_dim = 28*28\n",
    "        num_classes = 10\n",
    "        super(FeedforwardNeuralNetModel, self).__init__()\n",
    "        self.fc1 = nn.Linear(input_dim, num_classes) \n",
    "\n",
    "    def forward(self, x):\n",
    "        out = self.fc1(x)\n",
    "        return F.log_softmax(out)"
   ]
  },
  {
   "cell_type": "markdown",
   "id": "2017bb8f-de8f-4133-99d7-3ab30021344e",
   "metadata": {},
   "source": [
    "You'll need to instantiate this class as well as an optimizer, which will apply an algorithm to find the internal parameters of that model, such as matrix weights and biases. As an example, we will use the Stochastic Gradient Descent algorithm."
   ]
  },
  {
   "cell_type": "code",
   "execution_count": 8,
   "id": "77ebfc80-28cf-4cf5-bee5-e730d14a3c73",
   "metadata": {},
   "outputs": [],
   "source": [
    "learning_rate = 0.001\n",
    "momentum = 0.1\n",
    "log_interval = 10"
   ]
  },
  {
   "cell_type": "code",
   "execution_count": 9,
   "id": "ce470749-5291-40f8-9ff6-f42a161dab73",
   "metadata": {},
   "outputs": [],
   "source": [
    "network = FeedforwardNeuralNetModel()\n",
    "optimizer = optim.SGD(network.parameters(), lr=learning_rate, momentum=momentum)"
   ]
  },
  {
   "cell_type": "markdown",
   "id": "7bcb7f9c-2102-490b-9b2e-8114251ee04e",
   "metadata": {},
   "source": [
    "## Training"
   ]
  },
  {
   "cell_type": "markdown",
   "id": "0bbdbe6c-332f-480c-9d9f-f46ff253d965",
   "metadata": {},
   "source": [
    "Next, we will define the training procedure."
   ]
  },
  {
   "cell_type": "code",
   "execution_count": 10,
   "id": "ec6be983-1bf6-43fe-9172-481538887466",
   "metadata": {},
   "outputs": [],
   "source": [
    "n_epochs = 5\n",
    "\n",
    "train_losses = []\n",
    "train_counter = []\n",
    "test_losses = []\n",
    "test_counter = [i*len(train_loader.dataset) for i in range(n_epochs + 1)]"
   ]
  },
  {
   "cell_type": "code",
   "execution_count": 11,
   "id": "344c8817-e6ed-4af8-9487-4ec1e70ffc8b",
   "metadata": {},
   "outputs": [],
   "source": [
    "! mkdir -p results"
   ]
  },
  {
   "cell_type": "code",
   "execution_count": 12,
   "id": "bcd61e8f-621c-4679-b96f-9b6175f3dc6e",
   "metadata": {},
   "outputs": [],
   "source": [
    "def train(epoch):\n",
    "    network.train()\n",
    "    for batch_idx, (data, target) in enumerate(train_loader):\n",
    "        optimizer.zero_grad() # clears gradients\n",
    "        output = network(data.reshape(-1, 28*28))\n",
    "        \n",
    "        loss = F.nll_loss(output, target)\n",
    "        loss.backward()\n",
    "        \n",
    "        optimizer.step()\n",
    "        \n",
    "        if batch_idx % log_interval == 0:\n",
    "            print('Train Epoch: {} [{}/{} ({:.0f}%)]\\tLoss: {:.6f}'.format(\n",
    "                epoch, batch_idx * len(data), len(train_loader.dataset),\n",
    "                100. * batch_idx / len(train_loader), loss.item())\n",
    "            )\n",
    "            train_losses.append(loss.item())\n",
    "            train_counter.append((batch_idx*64) + ((epoch-1)*len(train_loader.dataset)))\n",
    "            torch.save(network.state_dict(), f'./results/model_iteration-{epoch}.pth')\n",
    "            torch.save(optimizer.state_dict(), f'./results/optimizer_iteration-{epoch}.pth')"
   ]
  },
  {
   "cell_type": "code",
   "execution_count": 13,
   "id": "887895af-acc2-47db-b39d-080ea333813e",
   "metadata": {},
   "outputs": [
    {
     "name": "stderr",
     "output_type": "stream",
     "text": [
      "/tmp/ipykernel_1516/3418281087.py:10: UserWarning: Implicit dimension choice for log_softmax has been deprecated. Change the call to include dim=X as an argument.\n",
      "  return F.log_softmax(out)\n"
     ]
    },
    {
     "name": "stdout",
     "output_type": "stream",
     "text": [
      "Train Epoch: 1 [0/60000 (0%)]\tLoss: 2.462653\n",
      "Train Epoch: 1 [640/60000 (1%)]\tLoss: 2.314634\n",
      "Train Epoch: 1 [1280/60000 (2%)]\tLoss: 2.172709\n",
      "Train Epoch: 1 [1920/60000 (3%)]\tLoss: 2.038150\n",
      "Train Epoch: 1 [2560/60000 (4%)]\tLoss: 2.011766\n",
      "Train Epoch: 1 [3200/60000 (5%)]\tLoss: 1.793893\n",
      "Train Epoch: 1 [3840/60000 (6%)]\tLoss: 1.784095\n",
      "Train Epoch: 1 [4480/60000 (7%)]\tLoss: 1.759681\n",
      "Train Epoch: 1 [5120/60000 (9%)]\tLoss: 1.595977\n",
      "Train Epoch: 1 [5760/60000 (10%)]\tLoss: 1.612938\n",
      "Train Epoch: 1 [6400/60000 (11%)]\tLoss: 1.453784\n",
      "Train Epoch: 1 [7040/60000 (12%)]\tLoss: 1.386518\n",
      "Train Epoch: 1 [7680/60000 (13%)]\tLoss: 1.438524\n",
      "Train Epoch: 1 [8320/60000 (14%)]\tLoss: 1.395226\n",
      "Train Epoch: 1 [8960/60000 (15%)]\tLoss: 1.237687\n",
      "Train Epoch: 1 [9600/60000 (16%)]\tLoss: 1.228426\n",
      "Train Epoch: 1 [10240/60000 (17%)]\tLoss: 1.189160\n",
      "Train Epoch: 1 [10880/60000 (18%)]\tLoss: 1.303519\n",
      "Train Epoch: 1 [11520/60000 (19%)]\tLoss: 1.156207\n",
      "Train Epoch: 1 [12160/60000 (20%)]\tLoss: 1.144378\n",
      "Train Epoch: 1 [12800/60000 (21%)]\tLoss: 1.040590\n",
      "Train Epoch: 1 [13440/60000 (22%)]\tLoss: 1.126434\n",
      "Train Epoch: 1 [14080/60000 (23%)]\tLoss: 1.047394\n",
      "Train Epoch: 1 [14720/60000 (25%)]\tLoss: 0.997867\n",
      "Train Epoch: 1 [15360/60000 (26%)]\tLoss: 0.978863\n",
      "Train Epoch: 1 [16000/60000 (27%)]\tLoss: 1.071712\n",
      "Train Epoch: 1 [16640/60000 (28%)]\tLoss: 1.151430\n",
      "Train Epoch: 1 [17280/60000 (29%)]\tLoss: 0.980280\n",
      "Train Epoch: 1 [17920/60000 (30%)]\tLoss: 0.843591\n",
      "Train Epoch: 1 [18560/60000 (31%)]\tLoss: 0.994908\n",
      "Train Epoch: 1 [19200/60000 (32%)]\tLoss: 0.877850\n",
      "Train Epoch: 1 [19840/60000 (33%)]\tLoss: 0.772137\n",
      "Train Epoch: 1 [20480/60000 (34%)]\tLoss: 0.830754\n",
      "Train Epoch: 1 [21120/60000 (35%)]\tLoss: 0.874241\n",
      "Train Epoch: 1 [21760/60000 (36%)]\tLoss: 0.802472\n",
      "Train Epoch: 1 [22400/60000 (37%)]\tLoss: 0.952104\n",
      "Train Epoch: 1 [23040/60000 (38%)]\tLoss: 0.818028\n",
      "Train Epoch: 1 [23680/60000 (39%)]\tLoss: 0.768295\n",
      "Train Epoch: 1 [24320/60000 (41%)]\tLoss: 0.909778\n",
      "Train Epoch: 1 [24960/60000 (42%)]\tLoss: 0.703258\n",
      "Train Epoch: 1 [25600/60000 (43%)]\tLoss: 0.806243\n",
      "Train Epoch: 1 [26240/60000 (44%)]\tLoss: 0.710597\n",
      "Train Epoch: 1 [26880/60000 (45%)]\tLoss: 0.831528\n",
      "Train Epoch: 1 [27520/60000 (46%)]\tLoss: 0.806455\n",
      "Train Epoch: 1 [28160/60000 (47%)]\tLoss: 0.687596\n",
      "Train Epoch: 1 [28800/60000 (48%)]\tLoss: 0.783745\n",
      "Train Epoch: 1 [29440/60000 (49%)]\tLoss: 0.819251\n",
      "Train Epoch: 1 [30080/60000 (50%)]\tLoss: 0.681386\n",
      "Train Epoch: 1 [30720/60000 (51%)]\tLoss: 0.702068\n",
      "Train Epoch: 1 [31360/60000 (52%)]\tLoss: 0.868806\n",
      "Train Epoch: 1 [32000/60000 (53%)]\tLoss: 0.922439\n",
      "Train Epoch: 1 [32640/60000 (54%)]\tLoss: 0.597353\n",
      "Train Epoch: 1 [33280/60000 (55%)]\tLoss: 0.663679\n",
      "Train Epoch: 1 [33920/60000 (57%)]\tLoss: 0.822791\n",
      "Train Epoch: 1 [34560/60000 (58%)]\tLoss: 1.010872\n",
      "Train Epoch: 1 [35200/60000 (59%)]\tLoss: 0.782502\n",
      "Train Epoch: 1 [35840/60000 (60%)]\tLoss: 0.826569\n",
      "Train Epoch: 1 [36480/60000 (61%)]\tLoss: 0.677710\n",
      "Train Epoch: 1 [37120/60000 (62%)]\tLoss: 0.614317\n",
      "Train Epoch: 1 [37760/60000 (63%)]\tLoss: 0.618042\n",
      "Train Epoch: 1 [38400/60000 (64%)]\tLoss: 0.661478\n",
      "Train Epoch: 1 [39040/60000 (65%)]\tLoss: 0.580700\n",
      "Train Epoch: 1 [39680/60000 (66%)]\tLoss: 0.779644\n",
      "Train Epoch: 1 [40320/60000 (67%)]\tLoss: 0.542680\n",
      "Train Epoch: 1 [40960/60000 (68%)]\tLoss: 0.707844\n",
      "Train Epoch: 1 [41600/60000 (69%)]\tLoss: 0.802535\n",
      "Train Epoch: 1 [42240/60000 (70%)]\tLoss: 0.598446\n",
      "Train Epoch: 1 [42880/60000 (71%)]\tLoss: 0.606198\n",
      "Train Epoch: 1 [43520/60000 (72%)]\tLoss: 0.578928\n",
      "Train Epoch: 1 [44160/60000 (74%)]\tLoss: 0.535659\n",
      "Train Epoch: 1 [44800/60000 (75%)]\tLoss: 0.725130\n",
      "Train Epoch: 1 [45440/60000 (76%)]\tLoss: 0.754411\n",
      "Train Epoch: 1 [46080/60000 (77%)]\tLoss: 0.579297\n",
      "Train Epoch: 1 [46720/60000 (78%)]\tLoss: 0.573667\n",
      "Train Epoch: 1 [47360/60000 (79%)]\tLoss: 0.585305\n",
      "Train Epoch: 1 [48000/60000 (80%)]\tLoss: 0.679498\n",
      "Train Epoch: 1 [48640/60000 (81%)]\tLoss: 0.760280\n",
      "Train Epoch: 1 [49280/60000 (82%)]\tLoss: 0.498441\n",
      "Train Epoch: 1 [49920/60000 (83%)]\tLoss: 0.650688\n",
      "Train Epoch: 1 [50560/60000 (84%)]\tLoss: 0.604967\n",
      "Train Epoch: 1 [51200/60000 (85%)]\tLoss: 0.771571\n",
      "Train Epoch: 1 [51840/60000 (86%)]\tLoss: 0.607910\n",
      "Train Epoch: 1 [52480/60000 (87%)]\tLoss: 0.649972\n",
      "Train Epoch: 1 [53120/60000 (88%)]\tLoss: 0.742860\n",
      "Train Epoch: 1 [53760/60000 (90%)]\tLoss: 0.697826\n",
      "Train Epoch: 1 [54400/60000 (91%)]\tLoss: 0.586809\n",
      "Train Epoch: 1 [55040/60000 (92%)]\tLoss: 0.536884\n",
      "Train Epoch: 1 [55680/60000 (93%)]\tLoss: 0.623721\n",
      "Train Epoch: 1 [56320/60000 (94%)]\tLoss: 0.615557\n",
      "Train Epoch: 1 [56960/60000 (95%)]\tLoss: 0.621626\n",
      "Train Epoch: 1 [57600/60000 (96%)]\tLoss: 0.790871\n",
      "Train Epoch: 1 [58240/60000 (97%)]\tLoss: 0.586313\n",
      "Train Epoch: 1 [58880/60000 (98%)]\tLoss: 0.567281\n",
      "Train Epoch: 1 [59520/60000 (99%)]\tLoss: 0.501192\n"
     ]
    }
   ],
   "source": [
    "train(1)"
   ]
  },
  {
   "cell_type": "markdown",
   "id": "7f182b23-fd7c-460d-a440-d38d7ec633c2",
   "metadata": {},
   "source": [
    "<br />\n",
    "Alongside trainig, we will also monitor the performance of the model on a set of samples not seen during the training."
   ]
  },
  {
   "cell_type": "code",
   "execution_count": 14,
   "id": "76c5f60d-264a-4cb7-91bf-b62013fa8fd5",
   "metadata": {},
   "outputs": [],
   "source": [
    "def test():\n",
    "    network.eval()\n",
    "    test_loss = 0\n",
    "    correct = 0\n",
    "    with torch.no_grad():\n",
    "        for data, target in test_loader:\n",
    "            output = network(data.reshape(-1, 28*28))\n",
    "            test_loss += F.nll_loss(output, target, size_average=False).item()\n",
    "            pred = output.data.max(1, keepdim=True)[1]\n",
    "            correct += pred.eq(target.data.view_as(pred)).sum()\n",
    "    test_loss /= len(test_loader.dataset)\n",
    "    test_losses.append(test_loss)\n",
    "    print('\\nTest set: Avg. loss: {:.4f}, Accuracy: {}/{} ({:.0f}%)\\n' \\\n",
    "          .format(test_loss, correct, len(test_loader.dataset), 100. * correct / len(test_loader.dataset))\n",
    "    )"
   ]
  },
  {
   "cell_type": "code",
   "execution_count": 15,
   "id": "7c2472ee-40e3-4b54-a37f-d46cb570e631",
   "metadata": {},
   "outputs": [
    {
     "name": "stderr",
     "output_type": "stream",
     "text": [
      "/tmp/ipykernel_1516/3418281087.py:10: UserWarning: Implicit dimension choice for log_softmax has been deprecated. Change the call to include dim=X as an argument.\n",
      "  return F.log_softmax(out)\n",
      "/opt/conda/lib/python3.11/site-packages/torch/nn/_reduction.py:42: UserWarning: size_average and reduce args will be deprecated, please use reduction='sum' instead.\n",
      "  warnings.warn(warning.format(ret))\n"
     ]
    },
    {
     "name": "stdout",
     "output_type": "stream",
     "text": [
      "\n",
      "Test set: Avg. loss: 0.5596, Accuracy: 8696/10000 (87%)\n",
      "\n"
     ]
    }
   ],
   "source": [
    "test()"
   ]
  },
  {
   "cell_type": "markdown",
   "id": "4dcf0d6c-98c0-4e4a-acbf-786a99892815",
   "metadata": {},
   "source": [
    "## Training and evaluating for multiple epochs"
   ]
  },
  {
   "cell_type": "markdown",
   "id": "651146e4-13fe-4052-8bd7-1bf4d633ae41",
   "metadata": {},
   "source": [
    "Let's train now for all desired epochs."
   ]
  },
  {
   "cell_type": "code",
   "execution_count": null,
   "id": "3ea9fa2a-1d5a-4b42-8631-2ff9afb1de97",
   "metadata": {
    "scrolled": true
   },
   "outputs": [
    {
     "name": "stdout",
     "output_type": "stream",
     "text": [
      "Train Epoch: 2 [0/60000 (0%)]\tLoss: 0.666574\n"
     ]
    },
    {
     "name": "stderr",
     "output_type": "stream",
     "text": [
      "/tmp/ipykernel_1516/3418281087.py:10: UserWarning: Implicit dimension choice for log_softmax has been deprecated. Change the call to include dim=X as an argument.\n",
      "  return F.log_softmax(out)\n"
     ]
    },
    {
     "name": "stdout",
     "output_type": "stream",
     "text": [
      "Train Epoch: 2 [640/60000 (1%)]\tLoss: 0.541078\n",
      "Train Epoch: 2 [1280/60000 (2%)]\tLoss: 0.564097\n",
      "Train Epoch: 2 [1920/60000 (3%)]\tLoss: 0.666229\n",
      "Train Epoch: 2 [2560/60000 (4%)]\tLoss: 0.488056\n",
      "Train Epoch: 2 [3200/60000 (5%)]\tLoss: 0.434858\n",
      "Train Epoch: 2 [3840/60000 (6%)]\tLoss: 0.543594\n",
      "Train Epoch: 2 [4480/60000 (7%)]\tLoss: 0.447622\n",
      "Train Epoch: 2 [5120/60000 (9%)]\tLoss: 0.549790\n",
      "Train Epoch: 2 [5760/60000 (10%)]\tLoss: 0.652385\n",
      "Train Epoch: 2 [6400/60000 (11%)]\tLoss: 0.670172\n",
      "Train Epoch: 2 [7040/60000 (12%)]\tLoss: 0.586396\n",
      "Train Epoch: 2 [7680/60000 (13%)]\tLoss: 0.554513\n",
      "Train Epoch: 2 [8320/60000 (14%)]\tLoss: 0.585009\n",
      "Train Epoch: 2 [8960/60000 (15%)]\tLoss: 0.654413\n",
      "Train Epoch: 2 [9600/60000 (16%)]\tLoss: 0.667827\n",
      "Train Epoch: 2 [10240/60000 (17%)]\tLoss: 0.639856\n",
      "Train Epoch: 2 [10880/60000 (18%)]\tLoss: 0.650934\n",
      "Train Epoch: 2 [11520/60000 (19%)]\tLoss: 0.545639\n",
      "Train Epoch: 2 [12160/60000 (20%)]\tLoss: 0.532475\n",
      "Train Epoch: 2 [12800/60000 (21%)]\tLoss: 0.734861\n",
      "Train Epoch: 2 [13440/60000 (22%)]\tLoss: 0.680402\n",
      "Train Epoch: 2 [14080/60000 (23%)]\tLoss: 0.570717\n",
      "Train Epoch: 2 [14720/60000 (25%)]\tLoss: 0.624158\n",
      "Train Epoch: 2 [15360/60000 (26%)]\tLoss: 0.704827\n",
      "Train Epoch: 2 [16000/60000 (27%)]\tLoss: 0.668154\n",
      "Train Epoch: 2 [16640/60000 (28%)]\tLoss: 0.572992\n",
      "Train Epoch: 2 [17280/60000 (29%)]\tLoss: 0.581778\n",
      "Train Epoch: 2 [17920/60000 (30%)]\tLoss: 0.600190\n",
      "Train Epoch: 2 [18560/60000 (31%)]\tLoss: 0.550936\n",
      "Train Epoch: 2 [19200/60000 (32%)]\tLoss: 0.541474\n",
      "Train Epoch: 2 [19840/60000 (33%)]\tLoss: 0.352336\n",
      "Train Epoch: 2 [20480/60000 (34%)]\tLoss: 0.388920\n",
      "Train Epoch: 2 [21120/60000 (35%)]\tLoss: 0.466117\n",
      "Train Epoch: 2 [21760/60000 (36%)]\tLoss: 0.525197\n",
      "Train Epoch: 2 [22400/60000 (37%)]\tLoss: 0.454179\n",
      "Train Epoch: 2 [23040/60000 (38%)]\tLoss: 0.515984\n",
      "Train Epoch: 2 [23680/60000 (39%)]\tLoss: 0.621901\n",
      "Train Epoch: 2 [24320/60000 (41%)]\tLoss: 0.476662\n",
      "Train Epoch: 2 [24960/60000 (42%)]\tLoss: 0.492097\n",
      "Train Epoch: 2 [25600/60000 (43%)]\tLoss: 0.756423\n",
      "Train Epoch: 2 [26240/60000 (44%)]\tLoss: 0.639166\n",
      "Train Epoch: 2 [26880/60000 (45%)]\tLoss: 0.574907\n",
      "Train Epoch: 2 [27520/60000 (46%)]\tLoss: 0.544177\n",
      "Train Epoch: 2 [28160/60000 (47%)]\tLoss: 0.394125\n",
      "Train Epoch: 2 [28800/60000 (48%)]\tLoss: 0.650866\n",
      "Train Epoch: 2 [29440/60000 (49%)]\tLoss: 0.353484\n",
      "Train Epoch: 2 [30080/60000 (50%)]\tLoss: 0.563469\n",
      "Train Epoch: 2 [30720/60000 (51%)]\tLoss: 0.427483\n",
      "Train Epoch: 2 [31360/60000 (52%)]\tLoss: 0.404265\n",
      "Train Epoch: 2 [32000/60000 (53%)]\tLoss: 0.485940\n",
      "Train Epoch: 2 [32640/60000 (54%)]\tLoss: 0.526042\n",
      "Train Epoch: 2 [33280/60000 (55%)]\tLoss: 0.554431\n",
      "Train Epoch: 2 [33920/60000 (57%)]\tLoss: 0.413831\n",
      "Train Epoch: 2 [34560/60000 (58%)]\tLoss: 0.572252\n",
      "Train Epoch: 2 [35200/60000 (59%)]\tLoss: 0.551418\n",
      "Train Epoch: 2 [35840/60000 (60%)]\tLoss: 0.526227\n",
      "Train Epoch: 2 [36480/60000 (61%)]\tLoss: 0.587115\n",
      "Train Epoch: 2 [37120/60000 (62%)]\tLoss: 0.539950\n",
      "Train Epoch: 2 [37760/60000 (63%)]\tLoss: 0.489990\n",
      "Train Epoch: 2 [38400/60000 (64%)]\tLoss: 0.457468\n",
      "Train Epoch: 2 [39040/60000 (65%)]\tLoss: 0.703489\n",
      "Train Epoch: 2 [39680/60000 (66%)]\tLoss: 0.490875\n",
      "Train Epoch: 2 [40320/60000 (67%)]\tLoss: 0.385928\n",
      "Train Epoch: 2 [40960/60000 (68%)]\tLoss: 0.684328\n",
      "Train Epoch: 2 [41600/60000 (69%)]\tLoss: 0.463061\n",
      "Train Epoch: 2 [42240/60000 (70%)]\tLoss: 0.568630\n",
      "Train Epoch: 2 [42880/60000 (71%)]\tLoss: 0.557115\n",
      "Train Epoch: 2 [43520/60000 (72%)]\tLoss: 0.567219\n",
      "Train Epoch: 2 [44160/60000 (74%)]\tLoss: 0.476868\n",
      "Train Epoch: 2 [44800/60000 (75%)]\tLoss: 0.638940\n",
      "Train Epoch: 2 [45440/60000 (76%)]\tLoss: 0.554818\n",
      "Train Epoch: 2 [46080/60000 (77%)]\tLoss: 0.459391\n",
      "Train Epoch: 2 [46720/60000 (78%)]\tLoss: 0.490846\n",
      "Train Epoch: 2 [47360/60000 (79%)]\tLoss: 0.328903\n",
      "Train Epoch: 2 [48000/60000 (80%)]\tLoss: 0.518024\n",
      "Train Epoch: 2 [48640/60000 (81%)]\tLoss: 0.432704\n",
      "Train Epoch: 2 [49280/60000 (82%)]\tLoss: 0.412061\n",
      "Train Epoch: 2 [49920/60000 (83%)]\tLoss: 0.432210\n",
      "Train Epoch: 2 [50560/60000 (84%)]\tLoss: 0.298506\n",
      "Train Epoch: 2 [51200/60000 (85%)]\tLoss: 0.429069\n",
      "Train Epoch: 2 [51840/60000 (86%)]\tLoss: 0.452532\n",
      "Train Epoch: 2 [52480/60000 (87%)]\tLoss: 0.385696\n",
      "Train Epoch: 2 [53120/60000 (88%)]\tLoss: 0.677558\n",
      "Train Epoch: 2 [53760/60000 (90%)]\tLoss: 0.461628\n",
      "Train Epoch: 2 [54400/60000 (91%)]\tLoss: 0.568202\n",
      "Train Epoch: 2 [55040/60000 (92%)]\tLoss: 0.480006\n",
      "Train Epoch: 2 [55680/60000 (93%)]\tLoss: 0.618785\n",
      "Train Epoch: 2 [56320/60000 (94%)]\tLoss: 0.605008\n",
      "Train Epoch: 2 [56960/60000 (95%)]\tLoss: 0.499009\n",
      "Train Epoch: 2 [57600/60000 (96%)]\tLoss: 0.394007\n",
      "Train Epoch: 2 [58240/60000 (97%)]\tLoss: 0.620327\n",
      "Train Epoch: 2 [58880/60000 (98%)]\tLoss: 0.437920\n",
      "Train Epoch: 2 [59520/60000 (99%)]\tLoss: 0.610073\n",
      "\n",
      "Test set: Avg. loss: 0.4506, Accuracy: 8851/10000 (89%)\n",
      "\n",
      "Train Epoch: 3 [0/60000 (0%)]\tLoss: 0.515682\n",
      "Train Epoch: 3 [640/60000 (1%)]\tLoss: 0.381055\n",
      "Train Epoch: 3 [1280/60000 (2%)]\tLoss: 0.478112\n",
      "Train Epoch: 3 [1920/60000 (3%)]\tLoss: 0.565628\n",
      "Train Epoch: 3 [2560/60000 (4%)]\tLoss: 0.559797\n",
      "Train Epoch: 3 [3200/60000 (5%)]\tLoss: 0.439313\n",
      "Train Epoch: 3 [3840/60000 (6%)]\tLoss: 0.475197\n",
      "Train Epoch: 3 [4480/60000 (7%)]\tLoss: 0.401082\n",
      "Train Epoch: 3 [5120/60000 (9%)]\tLoss: 0.358811\n",
      "Train Epoch: 3 [5760/60000 (10%)]\tLoss: 0.548729\n",
      "Train Epoch: 3 [6400/60000 (11%)]\tLoss: 0.526900\n",
      "Train Epoch: 3 [7040/60000 (12%)]\tLoss: 0.450414\n",
      "Train Epoch: 3 [7680/60000 (13%)]\tLoss: 0.407663\n",
      "Train Epoch: 3 [8320/60000 (14%)]\tLoss: 0.351334\n",
      "Train Epoch: 3 [8960/60000 (15%)]\tLoss: 0.423336\n",
      "Train Epoch: 3 [9600/60000 (16%)]\tLoss: 0.462153\n",
      "Train Epoch: 3 [10240/60000 (17%)]\tLoss: 0.492132\n",
      "Train Epoch: 3 [10880/60000 (18%)]\tLoss: 0.275345\n",
      "Train Epoch: 3 [11520/60000 (19%)]\tLoss: 0.453334\n",
      "Train Epoch: 3 [12160/60000 (20%)]\tLoss: 0.443971\n",
      "Train Epoch: 3 [12800/60000 (21%)]\tLoss: 0.430721\n",
      "Train Epoch: 3 [13440/60000 (22%)]\tLoss: 0.447697\n",
      "Train Epoch: 3 [14080/60000 (23%)]\tLoss: 0.355809\n",
      "Train Epoch: 3 [14720/60000 (25%)]\tLoss: 0.414375\n",
      "Train Epoch: 3 [15360/60000 (26%)]\tLoss: 0.591316\n",
      "Train Epoch: 3 [16000/60000 (27%)]\tLoss: 0.389881\n",
      "Train Epoch: 3 [16640/60000 (28%)]\tLoss: 0.578114\n",
      "Train Epoch: 3 [17280/60000 (29%)]\tLoss: 0.588548\n",
      "Train Epoch: 3 [17920/60000 (30%)]\tLoss: 0.391995\n",
      "Train Epoch: 3 [18560/60000 (31%)]\tLoss: 0.450514\n",
      "Train Epoch: 3 [19200/60000 (32%)]\tLoss: 0.639106\n",
      "Train Epoch: 3 [19840/60000 (33%)]\tLoss: 0.390941\n",
      "Train Epoch: 3 [20480/60000 (34%)]\tLoss: 0.392755\n",
      "Train Epoch: 3 [21120/60000 (35%)]\tLoss: 0.380556\n",
      "Train Epoch: 3 [21760/60000 (36%)]\tLoss: 0.480599\n",
      "Train Epoch: 3 [22400/60000 (37%)]\tLoss: 0.572423\n",
      "Train Epoch: 3 [23040/60000 (38%)]\tLoss: 0.412562\n",
      "Train Epoch: 3 [23680/60000 (39%)]\tLoss: 0.487716\n",
      "Train Epoch: 3 [24320/60000 (41%)]\tLoss: 0.510381\n",
      "Train Epoch: 3 [24960/60000 (42%)]\tLoss: 0.377208\n",
      "Train Epoch: 3 [25600/60000 (43%)]\tLoss: 0.300404\n",
      "Train Epoch: 3 [26240/60000 (44%)]\tLoss: 0.401228\n",
      "Train Epoch: 3 [26880/60000 (45%)]\tLoss: 0.594074\n",
      "Train Epoch: 3 [27520/60000 (46%)]\tLoss: 0.328740\n",
      "Train Epoch: 3 [28160/60000 (47%)]\tLoss: 0.382568\n",
      "Train Epoch: 3 [28800/60000 (48%)]\tLoss: 0.427094\n",
      "Train Epoch: 3 [29440/60000 (49%)]\tLoss: 0.327248\n",
      "Train Epoch: 3 [30080/60000 (50%)]\tLoss: 0.414064\n",
      "Train Epoch: 3 [30720/60000 (51%)]\tLoss: 0.424928\n",
      "Train Epoch: 3 [31360/60000 (52%)]\tLoss: 0.445438\n",
      "Train Epoch: 3 [32000/60000 (53%)]\tLoss: 0.382040\n",
      "Train Epoch: 3 [32640/60000 (54%)]\tLoss: 0.342853\n",
      "Train Epoch: 3 [33280/60000 (55%)]\tLoss: 0.451347\n",
      "Train Epoch: 3 [33920/60000 (57%)]\tLoss: 0.363770\n",
      "Train Epoch: 3 [34560/60000 (58%)]\tLoss: 0.412778\n",
      "Train Epoch: 3 [35200/60000 (59%)]\tLoss: 0.307116\n",
      "Train Epoch: 3 [35840/60000 (60%)]\tLoss: 0.614837\n",
      "Train Epoch: 3 [36480/60000 (61%)]\tLoss: 0.436802\n",
      "Train Epoch: 3 [37120/60000 (62%)]\tLoss: 0.436361\n",
      "Train Epoch: 3 [37760/60000 (63%)]\tLoss: 0.254122\n",
      "Train Epoch: 3 [38400/60000 (64%)]\tLoss: 0.576679\n",
      "Train Epoch: 3 [39040/60000 (65%)]\tLoss: 0.388012\n",
      "Train Epoch: 3 [39680/60000 (66%)]\tLoss: 0.545191\n",
      "Train Epoch: 3 [40320/60000 (67%)]\tLoss: 0.414379\n",
      "Train Epoch: 3 [40960/60000 (68%)]\tLoss: 0.278662\n",
      "Train Epoch: 3 [41600/60000 (69%)]\tLoss: 0.551912\n",
      "Train Epoch: 3 [42240/60000 (70%)]\tLoss: 0.466143\n",
      "Train Epoch: 3 [42880/60000 (71%)]\tLoss: 0.468168\n",
      "Train Epoch: 3 [43520/60000 (72%)]\tLoss: 0.276545\n",
      "Train Epoch: 3 [44160/60000 (74%)]\tLoss: 0.355101\n",
      "Train Epoch: 3 [44800/60000 (75%)]\tLoss: 0.527041\n",
      "Train Epoch: 3 [45440/60000 (76%)]\tLoss: 0.536015\n",
      "Train Epoch: 3 [46080/60000 (77%)]\tLoss: 0.342275\n",
      "Train Epoch: 3 [46720/60000 (78%)]\tLoss: 0.588447\n",
      "Train Epoch: 3 [47360/60000 (79%)]\tLoss: 0.269670\n",
      "Train Epoch: 3 [48000/60000 (80%)]\tLoss: 0.278183\n",
      "Train Epoch: 3 [48640/60000 (81%)]\tLoss: 0.388054\n",
      "Train Epoch: 3 [49280/60000 (82%)]\tLoss: 0.243378\n",
      "Train Epoch: 3 [49920/60000 (83%)]\tLoss: 0.693933\n",
      "Train Epoch: 3 [50560/60000 (84%)]\tLoss: 0.393076\n",
      "Train Epoch: 3 [51200/60000 (85%)]\tLoss: 0.275795\n",
      "Train Epoch: 3 [51840/60000 (86%)]\tLoss: 0.332906\n",
      "Train Epoch: 3 [52480/60000 (87%)]\tLoss: 0.551176\n",
      "Train Epoch: 3 [53120/60000 (88%)]\tLoss: 0.606336\n",
      "Train Epoch: 3 [53760/60000 (90%)]\tLoss: 0.359024\n",
      "Train Epoch: 3 [54400/60000 (91%)]\tLoss: 0.488740\n",
      "Train Epoch: 3 [55040/60000 (92%)]\tLoss: 0.446344\n",
      "Train Epoch: 3 [55680/60000 (93%)]\tLoss: 0.345604\n",
      "Train Epoch: 3 [56320/60000 (94%)]\tLoss: 0.580558\n",
      "Train Epoch: 3 [56960/60000 (95%)]\tLoss: 0.497444\n",
      "Train Epoch: 3 [57600/60000 (96%)]\tLoss: 0.466277\n",
      "Train Epoch: 3 [58240/60000 (97%)]\tLoss: 0.375065\n",
      "Train Epoch: 3 [58880/60000 (98%)]\tLoss: 0.490512\n",
      "Train Epoch: 3 [59520/60000 (99%)]\tLoss: 0.654881\n",
      "\n",
      "Test set: Avg. loss: 0.4058, Accuracy: 8941/10000 (89%)\n",
      "\n",
      "Train Epoch: 4 [0/60000 (0%)]\tLoss: 0.544170\n",
      "Train Epoch: 4 [640/60000 (1%)]\tLoss: 0.424970\n",
      "Train Epoch: 4 [1280/60000 (2%)]\tLoss: 0.312823\n",
      "Train Epoch: 4 [1920/60000 (3%)]\tLoss: 0.357140\n",
      "Train Epoch: 4 [2560/60000 (4%)]\tLoss: 0.338121\n",
      "Train Epoch: 4 [3200/60000 (5%)]\tLoss: 0.398677\n",
      "Train Epoch: 4 [3840/60000 (6%)]\tLoss: 0.409509\n",
      "Train Epoch: 4 [4480/60000 (7%)]\tLoss: 0.406468\n",
      "Train Epoch: 4 [5120/60000 (9%)]\tLoss: 0.488089\n",
      "Train Epoch: 4 [5760/60000 (10%)]\tLoss: 0.554749\n",
      "Train Epoch: 4 [6400/60000 (11%)]\tLoss: 0.337705\n",
      "Train Epoch: 4 [7040/60000 (12%)]\tLoss: 0.445246\n",
      "Train Epoch: 4 [7680/60000 (13%)]\tLoss: 0.526637\n",
      "Train Epoch: 4 [8320/60000 (14%)]\tLoss: 0.593512\n",
      "Train Epoch: 4 [8960/60000 (15%)]\tLoss: 0.459215\n",
      "Train Epoch: 4 [9600/60000 (16%)]\tLoss: 0.477244\n",
      "Train Epoch: 4 [10240/60000 (17%)]\tLoss: 0.372630\n",
      "Train Epoch: 4 [10880/60000 (18%)]\tLoss: 0.403247\n",
      "Train Epoch: 4 [11520/60000 (19%)]\tLoss: 0.555593\n",
      "Train Epoch: 4 [12160/60000 (20%)]\tLoss: 0.347193\n",
      "Train Epoch: 4 [12800/60000 (21%)]\tLoss: 0.507420\n",
      "Train Epoch: 4 [13440/60000 (22%)]\tLoss: 0.461771\n",
      "Train Epoch: 4 [14080/60000 (23%)]\tLoss: 0.381492\n",
      "Train Epoch: 4 [14720/60000 (25%)]\tLoss: 0.518532\n",
      "Train Epoch: 4 [15360/60000 (26%)]\tLoss: 0.509451\n",
      "Train Epoch: 4 [16000/60000 (27%)]\tLoss: 0.359733\n",
      "Train Epoch: 4 [16640/60000 (28%)]\tLoss: 0.323727\n",
      "Train Epoch: 4 [17280/60000 (29%)]\tLoss: 0.371965\n",
      "Train Epoch: 4 [17920/60000 (30%)]\tLoss: 0.609687\n",
      "Train Epoch: 4 [18560/60000 (31%)]\tLoss: 0.666263\n",
      "Train Epoch: 4 [19200/60000 (32%)]\tLoss: 0.426059\n",
      "Train Epoch: 4 [19840/60000 (33%)]\tLoss: 0.203614\n",
      "Train Epoch: 4 [20480/60000 (34%)]\tLoss: 0.358409\n",
      "Train Epoch: 4 [21120/60000 (35%)]\tLoss: 0.325613\n",
      "Train Epoch: 4 [21760/60000 (36%)]\tLoss: 0.539919\n",
      "Train Epoch: 4 [22400/60000 (37%)]\tLoss: 0.262908\n",
      "Train Epoch: 4 [23040/60000 (38%)]\tLoss: 0.249213\n",
      "Train Epoch: 4 [23680/60000 (39%)]\tLoss: 0.341809\n",
      "Train Epoch: 4 [24320/60000 (41%)]\tLoss: 0.300866\n",
      "Train Epoch: 4 [24960/60000 (42%)]\tLoss: 0.419902\n",
      "Train Epoch: 4 [25600/60000 (43%)]\tLoss: 0.347997\n",
      "Train Epoch: 4 [26240/60000 (44%)]\tLoss: 0.348140\n",
      "Train Epoch: 4 [26880/60000 (45%)]\tLoss: 0.385401\n",
      "Train Epoch: 4 [27520/60000 (46%)]\tLoss: 0.377303\n",
      "Train Epoch: 4 [28160/60000 (47%)]\tLoss: 0.410656\n",
      "Train Epoch: 4 [28800/60000 (48%)]\tLoss: 0.447676\n",
      "Train Epoch: 4 [29440/60000 (49%)]\tLoss: 0.411600\n",
      "Train Epoch: 4 [30080/60000 (50%)]\tLoss: 0.304504\n",
      "Train Epoch: 4 [30720/60000 (51%)]\tLoss: 0.615461\n",
      "Train Epoch: 4 [31360/60000 (52%)]\tLoss: 0.488724\n",
      "Train Epoch: 4 [32000/60000 (53%)]\tLoss: 0.502389\n",
      "Train Epoch: 4 [32640/60000 (54%)]\tLoss: 0.424566\n",
      "Train Epoch: 4 [33280/60000 (55%)]\tLoss: 0.251016\n",
      "Train Epoch: 4 [33920/60000 (57%)]\tLoss: 0.398078\n",
      "Train Epoch: 4 [34560/60000 (58%)]\tLoss: 0.722360\n",
      "Train Epoch: 4 [35200/60000 (59%)]\tLoss: 0.505770\n",
      "Train Epoch: 4 [35840/60000 (60%)]\tLoss: 0.321162\n",
      "Train Epoch: 4 [36480/60000 (61%)]\tLoss: 0.385665\n",
      "Train Epoch: 4 [37120/60000 (62%)]\tLoss: 0.350606\n",
      "Train Epoch: 4 [37760/60000 (63%)]\tLoss: 0.418992\n",
      "Train Epoch: 4 [38400/60000 (64%)]\tLoss: 0.380536\n",
      "Train Epoch: 4 [39040/60000 (65%)]\tLoss: 0.321524\n",
      "Train Epoch: 4 [39680/60000 (66%)]\tLoss: 0.372908\n",
      "Train Epoch: 4 [40320/60000 (67%)]\tLoss: 0.257566\n",
      "Train Epoch: 4 [40960/60000 (68%)]\tLoss: 0.386917\n",
      "Train Epoch: 4 [41600/60000 (69%)]\tLoss: 0.258698\n",
      "Train Epoch: 4 [42240/60000 (70%)]\tLoss: 0.548908\n",
      "Train Epoch: 4 [42880/60000 (71%)]\tLoss: 0.521250\n",
      "Train Epoch: 4 [43520/60000 (72%)]\tLoss: 0.397563\n",
      "Train Epoch: 4 [44160/60000 (74%)]\tLoss: 0.288998\n",
      "Train Epoch: 4 [44800/60000 (75%)]\tLoss: 0.522141\n",
      "Train Epoch: 4 [45440/60000 (76%)]\tLoss: 0.264227\n",
      "Train Epoch: 4 [46080/60000 (77%)]\tLoss: 0.297545\n",
      "Train Epoch: 4 [46720/60000 (78%)]\tLoss: 0.335762\n",
      "Train Epoch: 4 [47360/60000 (79%)]\tLoss: 0.441359\n",
      "Train Epoch: 4 [48000/60000 (80%)]\tLoss: 0.515000\n",
      "Train Epoch: 4 [48640/60000 (81%)]\tLoss: 0.396321\n",
      "Train Epoch: 4 [49280/60000 (82%)]\tLoss: 0.597667\n",
      "Train Epoch: 4 [49920/60000 (83%)]\tLoss: 0.425958\n",
      "Train Epoch: 4 [50560/60000 (84%)]\tLoss: 0.431178\n",
      "Train Epoch: 4 [51200/60000 (85%)]\tLoss: 0.306227\n",
      "Train Epoch: 4 [51840/60000 (86%)]\tLoss: 0.445283\n",
      "Train Epoch: 4 [52480/60000 (87%)]\tLoss: 0.442354\n",
      "Train Epoch: 4 [53120/60000 (88%)]\tLoss: 0.540651\n",
      "Train Epoch: 4 [53760/60000 (90%)]\tLoss: 0.375122\n",
      "Train Epoch: 4 [54400/60000 (91%)]\tLoss: 0.350683\n",
      "Train Epoch: 4 [55040/60000 (92%)]\tLoss: 0.505314\n",
      "Train Epoch: 4 [55680/60000 (93%)]\tLoss: 0.373389\n",
      "Train Epoch: 4 [56320/60000 (94%)]\tLoss: 0.403350\n",
      "Train Epoch: 4 [56960/60000 (95%)]\tLoss: 0.280683\n",
      "Train Epoch: 4 [57600/60000 (96%)]\tLoss: 0.494819\n",
      "Train Epoch: 4 [58240/60000 (97%)]\tLoss: 0.344167\n",
      "Train Epoch: 4 [58880/60000 (98%)]\tLoss: 0.407800\n",
      "Train Epoch: 4 [59520/60000 (99%)]\tLoss: 0.343069\n"
     ]
    }
   ],
   "source": [
    "for epoch in range(2, n_epochs + 1): # starts from the second iteration\n",
    "  train(epoch)\n",
    "  test()"
   ]
  },
  {
   "cell_type": "markdown",
   "id": "54cbd7dc-7bcc-4079-91fb-6ed6e5548268",
   "metadata": {},
   "source": [
    "# Model performance"
   ]
  },
  {
   "cell_type": "markdown",
   "id": "91eb0cb8-9ff9-4d62-9035-ffbbedb9eb22",
   "metadata": {},
   "source": [
    "Finally, we can inspect the results."
   ]
  },
  {
   "cell_type": "code",
   "execution_count": null,
   "id": "eaf16c5a-a610-4f69-96f7-42b37fc13521",
   "metadata": {},
   "outputs": [],
   "source": [
    "fig = pl.figure()\n",
    "pl.plot(train_counter, train_losses, color=(0.2, 0.2, 1.0))\n",
    "pl.scatter(test_counter[:-1], test_losses, color=(1.0, 0.2, 0.2))\n",
    "\n",
    "pl.legend(['Train Loss', 'Test Loss'], loc='upper right', frameon=False)\n",
    "pl.xlabel('Training Samples')\n",
    "pl.ylabel('Log Likelihood Loss')\n",
    "\n",
    "pl.show()"
   ]
  },
  {
   "cell_type": "markdown",
   "id": "42011104-4d54-4198-834e-20c4c76389cd",
   "metadata": {},
   "source": [
    "It's always important to inspect anecdotes to convince yourself the model is behind as expected."
   ]
  },
  {
   "cell_type": "code",
   "execution_count": null,
   "id": "94401f54-1f96-4ab1-89a8-c181c7192e5e",
   "metadata": {},
   "outputs": [],
   "source": [
    "with torch.no_grad():\n",
    "  output = network(example_data.reshape(1000, 28*28))"
   ]
  },
  {
   "cell_type": "markdown",
   "id": "b3673745-19dd-464c-90b6-8a07c8adfd6e",
   "metadata": {},
   "source": [
    "**Challenge: (2pt)** Can you explain why we are using `torch.no_grad()`?"
   ]
  },
  {
   "cell_type": "markdown",
   "id": "d831edae-2b61-4d78-b30b-40b8c2fea223",
   "metadata": {},
   "source": [
    "**Answer:** Using `torch.no_grad()` prevents the calculation of gradients, which improves the performance of machine learning models by decreasing the computation work and memory needed.`torch.nograd()` is especially useful for feed forward neural networks, where model weights do not need to be updated, speeding up the overall training process."
   ]
  },
  {
   "cell_type": "code",
   "execution_count": null,
   "id": "0fb030fa-d62b-419f-ba72-5c1b6ac71b99",
   "metadata": {},
   "outputs": [],
   "source": [
    "fig = pl.figure()\n",
    "for i in range(6):\n",
    "    pl.subplot(2,3,i+1)\n",
    "    pl.tight_layout()\n",
    "    pl.imshow(example_data[i][0], cmap='gray', interpolation='none')\n",
    "    pl.title(\"Prediction: {}\".format(output.data.max(1, keepdim=True)[1][i].item()))\n",
    "    pl.xticks([])\n",
    "    pl.yticks([])\n",
    "fig"
   ]
  },
  {
   "cell_type": "markdown",
   "id": "7133bd4a-b40d-48ef-9bf7-c1dbaa01df50",
   "metadata": {},
   "source": [
    "**Challenge: (1pt)** Re-do the plot above, but showcasing only miss-classifications (i.e. cases in which the model did wrong)."
   ]
  },
  {
   "cell_type": "markdown",
   "id": "8aae46b1-e066-4866-91b9-3bb8c0b8c3fb",
   "metadata": {},
   "source": [
    "**Answer:** Challenge completed in the code below:"
   ]
  },
  {
   "cell_type": "code",
   "execution_count": null,
   "id": "45f96ac1-450d-4a81-8c55-711ad0fff2a4",
   "metadata": {},
   "outputs": [],
   "source": [
    "# Find incorrect predictions\n",
    "inc_example_data = []\n",
    "inc_outputs = []\n",
    "idx = 6\n",
    "while idx < len(example_data) and len(inc_example_data) < 6:\n",
    "    predicted = output.data.max(1, keepdim=True)[1][idx].item()\n",
    "    if (predicted != example_targets[idx]):\n",
    "        inc_example_data.append(example_data[idx])\n",
    "        inc_outputs.append(predicted)\n",
    "    idx += 1\n",
    "\n",
    "# Plot incorrect example data\n",
    "for i in range(6):\n",
    "    pl.subplot(2,3,i+1)\n",
    "    pl.tight_layout()\n",
    "    pl.imshow(inc_example_data[i][0], cmap='gray', interpolation='none')\n",
    "    pl.title(\"Prediction: {}\".format(inc_outputs[i]))\n",
    "    pl.xticks([])\n",
    "    pl.yticks([])\n",
    "fig"
   ]
  },
  {
   "cell_type": "markdown",
   "id": "026ad18c-2610-4c79-b4da-7112e03304de",
   "metadata": {},
   "source": [
    "## Loading trained models"
   ]
  },
  {
   "cell_type": "markdown",
   "id": "9cacec6b-1e09-4c41-92cf-404a4b0a601c",
   "metadata": {},
   "source": [
    "Eventually, you will want to load the model you trained in the past for either running inference or continue the training procedure. The functions we developed above save artifacts contain all of the metadata and data about the model, assuming you have the right model class. Let's inspect those files: "
   ]
  },
  {
   "cell_type": "code",
   "execution_count": null,
   "id": "8ced5e87-eb77-4882-9780-57009de7cf0b",
   "metadata": {},
   "outputs": [],
   "source": [
    "! ls results"
   ]
  },
  {
   "cell_type": "markdown",
   "id": "d1b7317a-647b-4737-9ea4-03a84ee0bc83",
   "metadata": {},
   "source": [
    "To load a model:"
   ]
  },
  {
   "cell_type": "code",
   "execution_count": null,
   "id": "756fdf17-564c-488a-8dfa-1800f051e3c1",
   "metadata": {},
   "outputs": [],
   "source": [
    "trained_model = FeedforwardNeuralNetModel()\n",
    "model_state_dict = torch.load(\"results/model_iteration-1.pth\")\n",
    "trained_model.load_state_dict(model_state_dict)"
   ]
  },
  {
   "cell_type": "markdown",
   "id": "288a08cf-70e3-45a7-a127-a6ddd50b5d07",
   "metadata": {},
   "source": [
    "Before proceeding, let's inspect `model_state_dict`"
   ]
  },
  {
   "cell_type": "code",
   "execution_count": null,
   "id": "05af704e-3d15-4e6c-8e60-ad64cf68c930",
   "metadata": {},
   "outputs": [],
   "source": [
    "model_state_dict.keys()"
   ]
  },
  {
   "cell_type": "code",
   "execution_count": null,
   "id": "1a281f3e-3a71-42d3-b8c7-3848a0e651f7",
   "metadata": {},
   "outputs": [],
   "source": [
    "model_state_dict['fc1.weight'].shape"
   ]
  },
  {
   "cell_type": "code",
   "execution_count": null,
   "id": "e6a59542-0642-4a1a-87f9-b2147d05c5a0",
   "metadata": {},
   "outputs": [],
   "source": [
    "f,axs = pl.subplots(3,3, figsize=(8,8))\n",
    "\n",
    "c = 0\n",
    "for ax in axs:\n",
    "    for sax in ax:\n",
    "        sax.imshow(model_state_dict['fc1.weight'][c].reshape((28,28)), \n",
    "                   cmap = pl.get_cmap('Blues'))\n",
    "        c += 1\n",
    "        sax.axis('off')\n",
    "\n",
    "pl.show()"
   ]
  },
  {
   "cell_type": "markdown",
   "id": "17fe103d-7860-45f1-8302-ddd8155a9f61",
   "metadata": {},
   "source": [
    "Let's do the same for the optimizer"
   ]
  },
  {
   "cell_type": "code",
   "execution_count": null,
   "id": "d642116a-6edb-4c0c-9e74-5f2088d65e21",
   "metadata": {},
   "outputs": [],
   "source": [
    "optimizer = optim.SGD(trained_model.parameters(), lr=learning_rate, momentum=momentum)\n",
    "optimizer_state_dict = torch.load(\"results/optimizer_iteration-3.pth\")\n",
    "optimizer.load_state_dict(optimizer_state_dict)"
   ]
  },
  {
   "cell_type": "code",
   "execution_count": null,
   "id": "38237ef4-a4fd-4417-a787-9c67c1985917",
   "metadata": {},
   "outputs": [],
   "source": [
    "optimizer_state_dict.keys()"
   ]
  },
  {
   "cell_type": "markdown",
   "id": "19fd44fe-de50-4aa7-bde7-f0c9e0a288f1",
   "metadata": {},
   "source": [
    "**Challenge (1pt):** Can you explain the data in this dictionary?"
   ]
  },
  {
   "cell_type": "markdown",
   "id": "fa78ff1b-8717-4925-894d-67a1426cd334",
   "metadata": {},
   "source": [
    "**Answer**: State `0` represents the images where portions are identified in blue and white. State `1` represents the bias terms associated with each image present in the dictionary. The `param_groups` describe the parameters used during model training, such as learning rate (`lr`), momentum, and more."
   ]
  },
  {
   "cell_type": "markdown",
   "id": "a5090364-a89d-4092-a3b6-95db76b1bc14",
   "metadata": {},
   "source": [
    "## Final challenges"
   ]
  },
  {
   "cell_type": "markdown",
   "id": "322747a3-a689-4596-a254-6ab112ad2117",
   "metadata": {},
   "source": [
    "* **(1 pt)** What happens if you use only 10% of the available training data? Plot the difference in performance of the network.\n",
    "* **(0.5pt)** What happens if you remove 80% of all samples with label 5. Do you see a difference in performance? Is this difference homogeneous?\n",
    "* **(0.5pt)** What happens if you change parameters like the learnign rate and momentum? Plot the difference.\n",
    "* **(2pt)** Can you add more layers to this neural network? Start with one additional layer (often called \"hidden layer\"). What changes can you observe in doing so?\n",
    "* **(2pt)** Can you add regularization to this model? Look for L1, L2, and drop-out regularizations. What changes do you observe?\n",
    "* **[stretch] (2pt)** Can you change this model and turn it into a convolutional neural network?"
   ]
  },
  {
   "cell_type": "markdown",
   "id": "1750d5a4-69ba-437e-8b5b-5a1a54b76072",
   "metadata": {},
   "source": [
    "* **(1 pt)** What happens if you use only 10% of the available training data? Plot the difference in performance of the network."
   ]
  },
  {
   "cell_type": "code",
   "execution_count": null,
   "id": "874de75b-aee1-42f9-8b93-f8c6554fa76b",
   "metadata": {},
   "outputs": [],
   "source": [
    "def train_mod(epoch, trainer, train_losses, train_counter):\n",
    "    network.train()\n",
    "    for batch_idx, (data, target) in enumerate(trainer):\n",
    "        optimizer.zero_grad()\n",
    "        output = network(data.reshape(-1, 28*28))\n",
    "        \n",
    "        loss = F.nll_loss(output, target)\n",
    "        loss.backward()\n",
    "        \n",
    "        optimizer.step()\n",
    "        \n",
    "        if batch_idx % log_interval == 0:\n",
    "            print('Train Epoch: {} [{}/{} ({:.0f}%)]\\tLoss: {:.6f}'.format(\n",
    "                epoch, batch_idx * len(data), len(trainer.dataset),\n",
    "                100. * batch_idx / len(trainer), loss.item())\n",
    "            )\n",
    "            train_losses.append(loss.item())\n",
    "            train_counter.append((batch_idx*64) + ((epoch-1)*len(trainer.dataset)))\n",
    "\n",
    "def test_mod(test_losses):\n",
    "    network.eval()\n",
    "    test_loss = 0\n",
    "    correct = 0\n",
    "    with torch.no_grad():\n",
    "        for data, target in test_loader:\n",
    "            output = network(data.reshape(-1, 28*28))\n",
    "            test_loss += F.nll_loss(output, target, size_average=False).item()\n",
    "            pred = output.data.max(1, keepdim=True)[1]\n",
    "            correct += pred.eq(target.data.view_as(pred)).sum()\n",
    "    test_loss /= len(test_loader.dataset)\n",
    "    test_losses.append(test_loss)\n",
    "    print('\\nTest set: Avg. loss: {:.4f}, Accuracy: {}/{} ({:.0f}%)\\n' \\\n",
    "          .format(test_loss, correct, len(test_loader.dataset), 100. * correct / len(test_loader.dataset))\n",
    "    )"
   ]
  },
  {
   "cell_type": "code",
   "execution_count": null,
   "id": "a33d933c-53f0-4576-b01b-c03f66ed2288",
   "metadata": {},
   "outputs": [],
   "source": [
    "# Step 1: Take a subset of 10 percent training data\n",
    "train_dataset = torchvision.datasets.MNIST('./files/', train=True, download=True,\n",
    "                                           transform=torchvision.transforms.Compose([\n",
    "                                               torchvision.transforms.ToTensor(),\n",
    "                                               torchvision.transforms.Normalize((0.1307,), (0.3081,))\n",
    "                                           ]))\n",
    "train_10 = torch.utils.data.Subset(train_dataset, list(range(int(0.1 * len(train_dataset)))))\n",
    "train_loader_10 = torch.utils.data.DataLoader(train_10, batch_size=batch_size_train, shuffle=True)\n",
    "\n",
    "# Test on training subset\n",
    "network = FeedforwardNeuralNetModel()\n",
    "optimizer = optim.SGD(network.parameters(), lr=learning_rate, momentum=momentum)\n",
    "n_epochs = 5\n",
    "\n",
    "train_losses_10 = []\n",
    "train_counter_10 = []\n",
    "test_losses_10 = []\n",
    "test_counter_10 = [i*len(train_loader_10.dataset) for i in range(n_epochs + 1)]\n",
    "    \n",
    "# Training\n",
    "for epoch in range(1, n_epochs + 1):\n",
    "    train_mod(epoch, train_loader_10, train_losses_10, train_counter_10)\n",
    "    test_mod(test_losses_10)"
   ]
  },
  {
   "cell_type": "code",
   "execution_count": null,
   "id": "d7cf666c-2d55-4c6b-af50-0eeddf4420cd",
   "metadata": {},
   "outputs": [],
   "source": [
    "fig = pl.figure()\n",
    "pl.scatter(test_counter[:-1], test_losses, color=(1.0, 0.2, 0.2))\n",
    "pl.scatter(test_counter_10[:-1], test_losses_10, color='purple')\n",
    "\n",
    "pl.legend(['Test Loss Original', 'Test Loss 10% Training'], loc='upper right', frameon=False)\n",
    "pl.xlabel('Training Samples')\n",
    "pl.ylabel('Log Likelihood Test Loss')\n",
    "\n",
    "pl.show()"
   ]
  },
  {
   "cell_type": "markdown",
   "id": "850e9d8d-ef3c-4322-8075-60cb41c311a0",
   "metadata": {},
   "source": [
    "**Answer:** Using 10% of the available training data results in similar training performance and a higher testing set loss. As seen in the graph above, test set losses were higher for each epoch when trianed on 10 percent training data in comparison to the full dataset."
   ]
  },
  {
   "cell_type": "markdown",
   "id": "ece2dae9-7d31-46d3-a730-bfccddbd29b6",
   "metadata": {},
   "source": [
    "* **(0.5pt)** What happens if you remove 80% of all samples with label 5. Do you see a difference in performance? Is this difference homogeneous?\n"
   ]
  },
  {
   "cell_type": "code",
   "execution_count": null,
   "id": "eb6a8a17-c152-480d-95b4-a39838264977",
   "metadata": {
    "scrolled": true
   },
   "outputs": [],
   "source": [
    "five_idx = [i for i in range(len(train_loader.dataset)) if train_loader.dataset[i][1] == 5]\n",
    "all_idx = [i for i in range(len(train_loader.dataset))]\n",
    "to_remove = five_idx[:int(len(five_idx) * 0.8)]\n",
    "train_20 = torch.utils.data.Subset(train_dataset, list(set(all_idx) - set(to_remove)))\n",
    "train_20_loader = torch.utils.data.DataLoader(train_20, batch_size=batch_size_train, shuffle=True)\n",
    "\n",
    "n_epochs = 5\n",
    "train_losses_20 = []\n",
    "train_counter_20 = []\n",
    "test_losses_20 = []\n",
    "test_counter_20 = [i*len(train_loader.dataset) for i in range(n_epochs + 1)]\n",
    "\n",
    "network = FeedforwardNeuralNetModel()\n",
    "optimizer = optim.SGD(network.parameters(), lr=learning_rate, momentum=momentum)\n",
    "for i in range(1,n_epochs+1):\n",
    "    train_mod(i, train_20_loader, train_losses, train_counter)\n",
    "    test_mod(test_losses_20)"
   ]
  },
  {
   "cell_type": "code",
   "execution_count": null,
   "id": "e981f780-78d6-4f4f-a92f-93cb3d494b52",
   "metadata": {},
   "outputs": [],
   "source": [
    "fig = pl.figure()\n",
    "pl.scatter(test_counter[:-1], test_losses, color=(1.0, 0.2, 0.2))\n",
    "pl.scatter(test_counter_20[:-1], test_losses_20, color='purple')\n",
    "\n",
    "pl.legend(['Test Loss Original', 'Test Loss 20% 5 labels'], loc='upper right', frameon=False)\n",
    "pl.xlabel('Training Samples')\n",
    "pl.ylabel('Log Likelihood Test Loss')\n",
    "\n",
    "pl.show()"
   ]
  },
  {
   "cell_type": "markdown",
   "id": "a7425eaf-bbe1-4e01-9d26-6f07ef29b9f9",
   "metadata": {},
   "source": [
    "Looking at the plot above, we can see that the test loss increase for each iteration when 80 percent of all training data labeled \"5\" is taken out of the training set. Furthermore, the trend of each training sets scatterplot seems to follow a general pattern, which gives us reason to believe that there could be a homogeneous difference."
   ]
  },
  {
   "cell_type": "markdown",
   "id": "bcbeee31-3d42-4279-bd94-f85d8ddc513e",
   "metadata": {},
   "source": [
    "* **(0.5pt)** What happens if you change parameters like the learnign rate and momentum? Plot the difference.\n"
   ]
  },
  {
   "cell_type": "code",
   "execution_count": null,
   "id": "088e4895-4f03-4016-9a26-b4793f94f88f",
   "metadata": {
    "scrolled": true
   },
   "outputs": [],
   "source": [
    "lrs = [0.1, 0.01, 0.001]\n",
    "momentums = [1, 0.0001, 0.001]\n",
    "colors = ['red', 'blue', 'green']\n",
    "fig, ax = pl.subplots()\n",
    "\n",
    "for lr, momentum, color in zip(lrs, momentums, colors):\n",
    "    network = FeedforwardNeuralNetModel()\n",
    "    optimizer = optim.SGD(network.parameters(), lr=lr, momentum=momentum)\n",
    "    n_epochs = 3\n",
    "    \n",
    "    train_losses_temp = []\n",
    "    train_counter_temp = []\n",
    "    test_losses_temp = []\n",
    "    test_counter_temp = [i*len(train_loader.dataset) for i in range(n_epochs + 1)]\n",
    "    \n",
    "    for j in range(1,n_epochs+1):\n",
    "        train_mod(j, train_loader, train_losses_temp, train_counter_temp)\n",
    "        test_mod(test_losses_temp)\n",
    "        \n",
    "    ax.scatter(test_counter_temp[:-1], test_losses_temp, color=color, label= f\"lr={lr},momentum={momentum}\")\n",
    "    \n",
    "ax.set_xlabel('Training Samples')\n",
    "ax.set_ylabel('Log Likelihood Test Loss')\n",
    "ax.legend()\n",
    "pl.show()"
   ]
  },
  {
   "cell_type": "markdown",
   "id": "80ed8fb2-79d5-4bfc-a8de-cc9de297feb6",
   "metadata": {},
   "source": [
    "Increasing the momentum results in an increase of test loss, and a similar effect can be observed with the learning rate. As learning rate determines how high a step is taken during gradient descent, large learning rate values can result in failure to converge to the optimal value. Too high of a momentum value can cause failure in converegence as well as it determine how fast convergence occurs, and large values can result in inconsistent results."
   ]
  },
  {
   "cell_type": "markdown",
   "id": "8726b868-94ce-42cf-936a-4aee1512398c",
   "metadata": {},
   "source": [
    "* **(2pt)** Can you add more layers to this neural network? Start with one additional layer (often called \"hidden layer\"). What changes can you observe in doing so?\n"
   ]
  },
  {
   "cell_type": "code",
   "execution_count": null,
   "id": "ac9dba68-bb36-46c8-b0cd-538892b92aff",
   "metadata": {
    "scrolled": true
   },
   "outputs": [],
   "source": [
    "class FeedforwardNeuralNetModel2(nn.Module):\n",
    "    def __init__(self):\n",
    "        super(FeedforwardNeuralNetModel2, self).__init__()\n",
    "        input_dim = 28 * 28\n",
    "        hidden_dim1 = 512  \n",
    "        hidden_dim2 = 256  \n",
    "        hidden_dim3 = 128  \n",
    "        num_classes = 100  \n",
    "        num_classes2 = 10 \n",
    "\n",
    "        # Define the layers\n",
    "        self.fc1 = nn.Linear(input_dim, hidden_dim1)\n",
    "        self.fc2 = nn.Linear(hidden_dim1, hidden_dim2)\n",
    "        self.fc3 = nn.Linear(hidden_dim2, hidden_dim3)\n",
    "        self.fc4 = nn.Linear(hidden_dim3, num_classes)\n",
    "        self.fc5 = nn.Linear(num_classes, num_classes2)\n",
    "\n",
    "    def forward(self, x):\n",
    "        x = self.fc1(x)\n",
    "        x = self.fc2(x)\n",
    "        x = self.fc3(x)  \n",
    "        x = self.fc4(x)\n",
    "        out = self.fc5(x)         \n",
    "        return F.log_softmax(out)\n",
    "\n",
    "\n",
    "network = FeedforwardNeuralNetModel2()\n",
    "optimizer = optim.SGD(network.parameters(), lr=learning_rate, momentum=momentum)\n",
    "n_epochs = 5\n",
    "\n",
    "train_losses_l1 = []\n",
    "train_counter_l1 = []\n",
    "test_losses_l1 = []\n",
    "test_counter_l1 = [i*len(train_loader.dataset) for i in range(n_epochs + 1)]\n",
    "\n",
    "for i in range(1,n_epochs+1):\n",
    "    train_mod(i, train_loader, train_losses_l1, train_counter_l1)\n",
    "    test_mod(test_losses_l1)"
   ]
  },
  {
   "cell_type": "code",
   "execution_count": null,
   "id": "8c6c7b73-e713-41c6-b9f4-26a855b409a9",
   "metadata": {
    "scrolled": true
   },
   "outputs": [],
   "source": [
    "fig = pl.figure()\n",
    "pl.scatter(test_counter[:-1], test_losses, color=\"red\")\n",
    "pl.scatter(test_counter_l1[:-1], test_losses_l1, color=\"purple\")\n",
    "\n",
    "pl.legend(['Test Loss Original', 'Test Loss Additional Layers'], loc='upper right', frameon=False)\n",
    "pl.xlabel('Training Samples')\n",
    "pl.ylabel('Log Likelihood Loss')\n",
    "\n",
    "pl.show()"
   ]
  },
  {
   "cell_type": "markdown",
   "id": "b3584db8-1182-4d61-a8d0-02f02b1d4422",
   "metadata": {},
   "source": [
    "**Answer:** Yes, I was able to add more layers to the neural network, consisting of one input layer, three hidden layers, and one output layer. Adding these additional layers initally resulted in a rise in test loss for the first training sample, and later continued to either beat or match the test loss of the original training model. "
   ]
  },
  {
   "cell_type": "markdown",
   "id": "9cb17672-7497-4492-ba92-32476e45d0fe",
   "metadata": {},
   "source": [
    "* **(2pt)** Can you add regularization to this model? Look for L1, L2, and drop-out regularizations. What changes do you observe?\n"
   ]
  },
  {
   "cell_type": "code",
   "execution_count": null,
   "id": "3971e440-827e-4311-bff3-7bedd462c39c",
   "metadata": {
    "scrolled": true
   },
   "outputs": [],
   "source": [
    "def l1_regularization(model, l1_lambda):\n",
    "    l1_norm = sum(param.abs().sum() for param in model.parameters())\n",
    "    return l1_lambda * l1_norm\n",
    "\n",
    "network = FeedforwardNeuralNetModel2()\n",
    "optimizer = optim.SGD(network.parameters(), lr=learning_rate, momentum=momentum)\n",
    "\n",
    "n_epochs = 3\n",
    "log_interval = 10\n",
    "l1_lambda = 0.001 \n",
    "\n",
    "train_losses_l1 = []\n",
    "train_counter_l1 = []\n",
    "test_losses_l1 = []\n",
    "test_counter_l1 = [i * len(train_loader.dataset) for i in range(n_epochs + 1)]\n",
    "\n",
    "def train_l1(epoch):\n",
    "    network.train()\n",
    "    for batch_idx, (data, target) in enumerate(train_loader):\n",
    "        optimizer.zero_grad()  # Clear gradients\n",
    "        output = network(data.reshape(-1, 28*28))  # Forward pass\n",
    "\n",
    "        loss = F.nll_loss(output, target)\n",
    "\n",
    "        l1_loss = l1_regularization(network, l1_lambda)\n",
    "        total_loss = loss + l1_loss\n",
    "\n",
    "        total_loss.backward()  \n",
    "        optimizer.step()  \n",
    "\n",
    "        # Logging and saving\n",
    "        if batch_idx % log_interval == 0:\n",
    "            print('Train Epoch: {} [{}/{} ({:.0f}%)]\\tLoss: {:.6f}'.format(\n",
    "                epoch, batch_idx * len(data), len(train_loader.dataset),\n",
    "                100. * batch_idx / len(train_loader), total_loss.item())\n",
    "            )\n",
    "            train_losses_l1.append(total_loss.item())\n",
    "            train_counter_l1.append((batch_idx * len(data)) + ((epoch - 1) * len(train_loader.dataset)))\n",
    "\n",
    "\n",
    "n_epochs = 3\n",
    "for epoch in range(1, n_epochs + 1):\n",
    "    train_l1(epoch)\n",
    "    test_mod(test_losses_l1)"
   ]
  },
  {
   "cell_type": "code",
   "execution_count": null,
   "id": "31c78e21-a154-4df7-9a98-5dc1541aa9fc",
   "metadata": {
    "scrolled": true
   },
   "outputs": [],
   "source": [
    "fig = pl.figure()\n",
    "# pl.plot(train_counter, train_losses, color=(0.2, 0.2, 1.0))\n",
    "pl.scatter(test_counter[:-1], test_losses, color=\"red\")\n",
    "pl.scatter(test_counter_l1[:-1], test_losses_l1, color=\"purple\")\n",
    "\n",
    "pl.legend(['Test Loss Original', 'Test Loss L1 Reg'], loc='upper right', frameon=False)\n",
    "pl.xlabel('Training Samples')\n",
    "pl.ylabel('Log Likelihood Loss')\n",
    "\n",
    "pl.show()"
   ]
  },
  {
   "cell_type": "markdown",
   "id": "d0bb762c-793a-4db5-8c98-d5997041b094",
   "metadata": {},
   "source": [
    "After implementing L1 regularization in the neural network designed in the previous question, we can observe that the test loss is higher for each sample in comparison to the original model. Further optimization is required (such as searching for the best learning rate and momentum) in order to get better performance."
   ]
  },
  {
   "cell_type": "markdown",
   "id": "260aeb52-e111-4f3b-b598-29a7ad839cc4",
   "metadata": {},
   "source": [
    "* **[stretch] (2pt)** Can you change this model and turn it into a convolutional neural network?"
   ]
  },
  {
   "cell_type": "code",
   "execution_count": null,
   "id": "147bff64-edb2-4c6e-9431-fa412e6848a5",
   "metadata": {},
   "outputs": [],
   "source": [
    "class FullyConvNetNoPooling(nn.Module):\n",
    "    def __init__(self):\n",
    "        super(FullyConvNetNoPooling, self).__init__()\n",
    "        \n",
    "        num_classes = 100  \n",
    "        num_classes2 = 10\n",
    "        \n",
    "        self.conv1 = nn.Conv2d(in_channels=1, out_channels=32, kernel_size=3, padding=1, stride=2)  # 28x28 -> 14x14\n",
    "        self.conv2 = nn.Conv2d(in_channels=32, out_channels=64, kernel_size=3, padding=1, stride=2) # 14x14 -> 7x7\n",
    "        self.conv3 = nn.Conv2d(in_channels=64, out_channels=128, kernel_size=3, padding=1)          # 7x7 stays the same\n",
    "        self.conv4 = nn.Conv2d(in_channels=128, out_channels=num_classes, kernel_size=3, padding=1)  # 7x7 stays the same\n",
    "        \n",
    "        self.global_pool = nn.AdaptiveAvgPool2d((1, 1))\n",
    "\n",
    "        self.res = nn.Conv2d(in_channels=num_classes, out_channels=num_classes2, kernel_size=1)\n",
    "\n",
    "    def forward(self, x):\n",
    "        x = self.conv1(x) \n",
    "        x = self.conv2(x) \n",
    "        x = self.conv3(x)\n",
    "        x = self.conv4(x)\n",
    "        x = self.global_pool(x)\n",
    "        x = self.res(x)\n",
    "        return F.log_softmax(x, dim=1)"
   ]
  },
  {
   "cell_type": "code",
   "execution_count": null,
   "id": "82afaaa8-3024-4f6c-a538-50dc06fb9f09",
   "metadata": {},
   "outputs": [],
   "source": [
    "network = FullyConvNetNoPooling()\n",
    "optimizer = optim.SGD(network.parameters(), lr=learning_rate, momentum=momentum)\n",
    "\n",
    "train_losses_cnn = []\n",
    "train_counter_cnn = []\n",
    "test_losses_cnn = []\n",
    "test_counter_cnn = [i * len(train_loader.dataset) for i in range(n_epochs + 1)]\n",
    "n_epochs = 5\n",
    "\n",
    "for i in range(1, n_epochs + 1):\n",
    "    train_mod(i, train_loader, train_losses_cnn, train_counter_cnn)\n",
    "    test_mod(test_losses_cnn)"
   ]
  },
  {
   "cell_type": "code",
   "execution_count": null,
   "id": "fc6738f5-e0b9-403c-8a1d-be2101b5ee92",
   "metadata": {},
   "outputs": [],
   "source": [
    "fig = pl.figure()\n",
    "pl.scatter(test_counter[:-1], test_losses, color=\"red\")\n",
    "pl.scatter(test_counter_cnn[:-1], test_losses_cnnS, color=\"purple\")\n",
    "\n",
    "pl.legend(['Test Loss Original', 'Test Loss L1 Reg'], loc='upper right', frameon=False)\n",
    "pl.xlabel('Training Samples')\n",
    "pl.ylabel('Log Likelihood Loss')\n",
    "\n",
    "pl.show()"
   ]
  }
 ],
 "metadata": {
  "kernelspec": {
   "display_name": "Python 3 (ipykernel)",
   "language": "python",
   "name": "python3"
  },
  "language_info": {
   "codemirror_mode": {
    "name": "ipython",
    "version": 3
   },
   "file_extension": ".py",
   "mimetype": "text/x-python",
   "name": "python",
   "nbconvert_exporter": "python",
   "pygments_lexer": "ipython3",
   "version": "3.11.9"
  }
 },
 "nbformat": 4,
 "nbformat_minor": 5
}
